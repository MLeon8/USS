{
 "cells": [
  {
   "cell_type": "markdown",
   "id": "a71659e2",
   "metadata": {},
   "source": [
    "# Análisis de expresión génica diferencial (RNA-seq)\n",
    "Este notebook realiza un análisis completo de expresión génica diferencial basado en un experimento de RNA-Seq para detectar genes sobreexpresados y realizar anotación funcional con Gene Ontology (GO)."
   ]
  },
  {
   "cell_type": "code",
   "execution_count": null,
   "id": "0f373027",
   "metadata": {},
   "outputs": [],
   "source": [
    "import pandas as pd\n",
    "import numpy as np\n",
    "import matplotlib.pyplot as plt\n",
    "import seaborn as sns\n",
    "from gprofiler import GProfiler"
   ]
  },
  {
   "cell_type": "code",
   "execution_count": null,
   "id": "abd1dd67",
   "metadata": {},
   "outputs": [],
   "source": [
    "# Cargar datos RNA-Seq\n",
    "df = pd.read_csv(\"RNA-Seq-expression-Norilsk2019.csv\")\n",
    "df.head()"
   ]
  },
  {
   "cell_type": "code",
   "execution_count": null,
   "id": "c7ab902e",
   "metadata": {},
   "outputs": [],
   "source": [
    "# Renombrar columnas para facilitar análisis\n",
    "df.rename(columns={\n",
    "    'log_2 fold change': 'log2FoldChange',\n",
    "    'Adjusted p-value': 'pvalue',\n",
    "    'Gene': 'gene_id'\n",
    "}, inplace=True)\n",
    "df.columns"
   ]
  },
  {
   "cell_type": "code",
   "execution_count": null,
   "id": "853bdf17",
   "metadata": {},
   "outputs": [],
   "source": [
    "# Umbrales\n",
    "logfc_cutoff = 1\n",
    "pval_cutoff = 0.05\n",
    "\n",
    "# Calcular -log10(pvalue)\n",
    "df['-log10(pval)'] = -np.log10(df['pvalue'].replace(0, 1e-300))\n",
    "df['significant'] = (df['log2FoldChange'] > logfc_cutoff) & (df['pvalue'] < pval_cutoff)\n",
    "\n",
    "# Graficar Volcano plot\n",
    "plt.figure(figsize=(10, 6))\n",
    "sns.scatterplot(data=df, x='log2FoldChange', y='-log10(pval)', hue='significant',\n",
    "                palette={True: 'red', False: 'grey'}, alpha=0.6)\n",
    "plt.axhline(-np.log10(pval_cutoff), color='blue', linestyle='--')\n",
    "plt.axvline(logfc_cutoff, color='green', linestyle='--')\n",
    "plt.title('Volcano Plot - Genes diferencialmente expresados')\n",
    "plt.xlabel('log2 Fold Change')\n",
    "plt.ylabel('-log10(p-value)')\n",
    "plt.legend(title='Significativo')\n",
    "plt.tight_layout()\n",
    "plt.show()"
   ]
  },
  {
   "cell_type": "code",
   "execution_count": null,
   "id": "f3da3ee3",
   "metadata": {},
   "outputs": [],
   "source": [
    "# Filtrar genes sobreexpresados\n",
    "overexpressed_genes = df[(df['log2FoldChange'] > logfc_cutoff) & (df['pvalue'] < pval_cutoff)]\n",
    "print(f\"Genes sobreexpresados detectados: {len(overexpressed_genes)}\")"
   ]
  },
  {
   "cell_type": "code",
   "execution_count": null,
   "id": "ffa2f571",
   "metadata": {},
   "outputs": [],
   "source": [
    "# Análisis funcional con g:Profiler\n",
    "gp = GProfiler(return_dataframe=True)\n",
    "result = gp.profile(organism='hsapiens', query=overexpressed_genes['gene_id'].tolist())\n",
    "result[['native', 'name', 'p_value']].head()"
   ]
  }
 ],
 "metadata": {},
 "nbformat": 4,
 "nbformat_minor": 5
}
