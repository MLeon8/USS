# Cell 1: Título y propósito
# 🦠 Identificación del Agente Patógeno

# Cell 2: Leer resultados BLAST
import pandas as pd
df = pd.read_csv("blast_resumen/top_blast_hits.csv")
df.head()

# Cell 3: Especie predominante
df['species'].value_counts()

# Cell 4: Conclusión
# Se determina como agente patógeno más probable: Mycobacterium tuberculosis
