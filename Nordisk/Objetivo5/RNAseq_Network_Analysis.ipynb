{
 "cells": [
  {
   "cell_type": "markdown",
   "id": "342b31c6",
   "metadata": {},
   "source": [
    "# 📘 RNA-seq + Red Génica\n",
    "Análisis completo: Volcano plot, GO, redes génicas simuladas y reales con STRINGdb"
   ]
  },
  {
   "cell_type": "code",
   "execution_count": null,
   "id": "087d2ec8",
   "metadata": {},
   "outputs": [],
   "source": [
    "\n",
    "import pandas as pd\n",
    "import numpy as np\n",
    "\n",
    "df = pd.read_csv('/mnt/data/RNA-Seq-expression-Norilsk2019.csv')\n",
    "df = df.rename(columns={\n",
    "    'log_2 fold change': 'log2FC',\n",
    "    'Adjusted p-value': 'padj'\n",
    "})\n",
    "df['Significance'] = 'No significativo'\n",
    "df.loc[(df['log2FC'] > 1) & (df['padj'] < 0.05), 'Significance'] = 'Sobre-expresado'\n",
    "df.loc[(df['log2FC'] < -1) & (df['padj'] < 0.05), 'Significance'] = 'Sub-expresado'\n",
    "df.head()\n"
   ]
  },
  {
   "cell_type": "code",
   "execution_count": null,
   "id": "c3738dcd",
   "metadata": {},
   "outputs": [],
   "source": [
    "\n",
    "import matplotlib.pyplot as plt\n",
    "import seaborn as sns\n",
    "\n",
    "plt.figure(figsize=(10,6))\n",
    "sns.scatterplot(data=df, x='log2FC', y=-np.log10(df['padj']), hue='Significance',\n",
    "                palette={'Sobre-expresado':'red', 'Sub-expresado':'blue', 'No significativo':'gray'}, alpha=0.7)\n",
    "\n",
    "plt.axvline(x=1, color='black', linestyle='--')\n",
    "plt.axvline(x=-1, color='black', linestyle='--')\n",
    "plt.axhline(y=-np.log10(0.05), color='black', linestyle='--')\n",
    "plt.title(\"Volcano Plot\")\n",
    "plt.xlabel(\"log2 Fold Change\")\n",
    "plt.ylabel(\"-log10 Adjusted p-value\")\n",
    "plt.legend()\n",
    "plt.show()\n"
   ]
  },
  {
   "cell_type": "code",
   "execution_count": null,
   "id": "2928ac9c",
   "metadata": {},
   "outputs": [],
   "source": [
    "\n",
    "!pip install -q mygene\n",
    "\n",
    "import mygene\n",
    "mg = mygene.MyGeneInfo()\n",
    "\n",
    "genes = df[df['Significance'] == 'Sobre-expresado']['Gene'].dropna().unique().tolist()\n",
    "annotations = mg.querymany(genes, scopes='ensembl.gene', fields='go', species='human', as_dataframe=True)\n",
    "go_terms = annotations[['go.BP', 'go.MF', 'go.CC']].dropna(how='all')\n",
    "go_terms.head()\n"
   ]
  },
  {
   "cell_type": "code",
   "execution_count": null,
   "id": "477fe7a1",
   "metadata": {},
   "outputs": [],
   "source": [
    "\n",
    "np.random.seed(42)\n",
    "samples = [f\"S{i+1}\" for i in range(10)]\n",
    "expr_matrix = pd.DataFrame(\n",
    "    np.random.normal(loc=0, scale=1, size=(len(genes), len(samples))),\n",
    "    index=genes,\n",
    "    columns=samples\n",
    ")\n",
    "expr_matrix.head()\n"
   ]
  },
  {
   "cell_type": "code",
   "execution_count": null,
   "id": "b3e0c0c1",
   "metadata": {},
   "outputs": [],
   "source": [
    "\n",
    "import networkx as nx\n",
    "\n",
    "corr_matrix = expr_matrix.T.corr()\n",
    "threshold = 0.7\n",
    "G1 = nx.Graph()\n",
    "for i in corr_matrix.index:\n",
    "    for j in corr_matrix.columns:\n",
    "        if i != j and corr_matrix.loc[i, j] > threshold:\n",
    "            G1.add_edge(i, j, weight=corr_matrix.loc[i, j])\n"
   ]
  },
  {
   "cell_type": "code",
   "execution_count": null,
   "id": "0d5e57e9",
   "metadata": {},
   "outputs": [],
   "source": [
    "\n",
    "import requests\n",
    "\n",
    "gene_list = genes[:100]\n",
    "string_ids = \"%0d\".join(gene_list)\n",
    "url = f\"https://string-db.org/api/tsv/network?identifiers={string_ids}&species=9606\"\n",
    "\n",
    "response = requests.get(url)\n",
    "with open(\"string_network.tsv\", \"w\") as f:\n",
    "    f.write(response.text)\n",
    "\n",
    "string_df = pd.read_csv(\"string_network.tsv\", sep='\\t')\n",
    "G2 = nx.from_pandas_edgelist(string_df, 'preferredName_A', 'preferredName_B', edge_attr='combined_score')\n"
   ]
  },
  {
   "cell_type": "code",
   "execution_count": null,
   "id": "2abc3ca6",
   "metadata": {},
   "outputs": [],
   "source": [
    "\n",
    "def red_metrics(G):\n",
    "    if not nx.is_connected(G):\n",
    "        G = G.subgraph(max(nx.connected_components(G), key=len)).copy()\n",
    "    return {\n",
    "        \"Nodos\": G.number_of_nodes(),\n",
    "        \"Aristas\": G.number_of_edges(),\n",
    "        \"Grado promedio\": np.mean([d for _, d in G.degree()]),\n",
    "        \"Clustering\": nx.average_clustering(G),\n",
    "        \"Diámetro\": nx.diameter(G),\n",
    "        \"Longitud promedio\": nx.average_shortest_path_length(G)\n",
    "    }\n",
    "\n",
    "metrics1 = red_metrics(G1)\n",
    "metrics2 = red_metrics(G2)\n",
    "\n",
    "pd.DataFrame([metrics1, metrics2], index=['Coexpresión Pearson', 'STRINGdb'])\n"
   ]
  },
  {
   "cell_type": "code",
   "execution_count": null,
   "id": "350ed476",
   "metadata": {},
   "outputs": [],
   "source": [
    "\n",
    "geo_nodes = max(nx.all_pairs_shortest_path_length(G2), key=lambda x: max(x[1].values()))\n",
    "start = geo_nodes[0]\n",
    "end = max(geo_nodes[1], key=geo_nodes[1].get)\n",
    "path = nx.shortest_path(G2, start, end)\n",
    "print(\"Geodésica STRINGdb:\")\n",
    "print(path)\n",
    "\n",
    "geo_annots = annotations.loc[path][['go.BP', 'go.MF', 'go.CC']]\n",
    "geo_annots\n"
   ]
  }
 ],
 "metadata": {},
 "nbformat": 4,
 "nbformat_minor": 5
}
